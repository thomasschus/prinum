{
 "cells": [
  {
   "cell_type": "markdown",
   "id": "42b5df54-0941-4923-84a5-d53805e6980d",
   "metadata": {
    "tags": []
   },
   "source": [
    "# Prime numbers"
   ]
  },
  {
   "cell_type": "markdown",
   "id": "526a87ee-b22f-4583-818b-ca46653415f4",
   "metadata": {
    "tags": []
   },
   "source": [
    "## Imports"
   ]
  },
  {
   "cell_type": "code",
   "execution_count": 11,
   "id": "602238a1-c666-43e6-89cf-cefd15a0e008",
   "metadata": {},
   "outputs": [],
   "source": [
    "import operator\n",
    "\n",
    "import matplotlib.pyplot as plt\n",
    "\n",
    "from prinum import find_prime_numbers\n",
    "from prinum import last_digit\n",
    "from prinum import bin_successions"
   ]
  },
  {
   "cell_type": "markdown",
   "id": "d0f16adb-068e-43cc-bfb1-fb3f5f8baee2",
   "metadata": {
    "tags": []
   },
   "source": [
    "## Find prime numbers between 0 and 10.000"
   ]
  },
  {
   "cell_type": "code",
   "execution_count": 30,
   "id": "234e6515-7d0d-4424-8f52-c0f8735b2755",
   "metadata": {},
   "outputs": [
    {
     "name": "stdout",
     "output_type": "stream",
     "text": [
      "We found 1229 prime numbers between 0 and 50.000. These are the first 50:\n",
      "2, 3, 5, 7, 11, 13, 17, 19, 23, 29, 31, 37, 41, 43, 47, 53, 59, 61, 67, 71, 73, 79, 83, 89, 97, 101, 103, 107, 109, 113, 127, 131, 137, 139, 149, 151, 157, 163, 167, 173, 179, 181, 191, 193, 197, 199, 211, 223, 227, 229 ..."
     ]
    }
   ],
   "source": [
    "prime_numbers = list(find_prime_numbers(0, 10_000))\n",
    "print(f'We found {len(prime_numbers)} prime numbers between 0 and 50.000. These are the first 50:')\n",
    "print(*prime_numbers[:50], sep=\", \", end=\" ...\")"
   ]
  },
  {
   "cell_type": "markdown",
   "id": "8a066b5d-4bb6-41ff-9e97-db0968984787",
   "metadata": {
    "tags": []
   },
   "source": [
    "## Get the last digit of each prime number"
   ]
  },
  {
   "cell_type": "code",
   "execution_count": 31,
   "id": "2bb379bb-9c67-482a-aaad-da674c5b309f",
   "metadata": {},
   "outputs": [
    {
     "name": "stdout",
     "output_type": "stream",
     "text": [
      "The last digits of the first 50 prime numbers:\n",
      "2, 3, 5, 7, 1, 3, 7, 9, 3, 9, 1, 7, 1, 3, 7, 3, 9, 1, 7, 1, 3, 9, 3, 9, 7, 1, 3, 7, 9, 3, 7, 1, 7, 9, 9, 1, 7, 3, 7, 3, 9, 1, 1, 3, 7, 9, 1, 3, 7, 9 ..."
     ]
    }
   ],
   "source": [
    "last_digits = [last_digit(number) for number in prime_numbers]\n",
    "print('The last digits of the first 50 prime numbers:')\n",
    "print(*last_digits[:50], sep=\", \", end=\" ...\")"
   ]
  },
  {
   "cell_type": "markdown",
   "id": "c99a6f77-5240-4a4a-8b05-2ff65d655ac0",
   "metadata": {
    "tags": []
   },
   "source": [
    "## Count combinations of two adjacent last digits"
   ]
  },
  {
   "cell_type": "code",
   "execution_count": 37,
   "id": "5bd2ff64-fd1d-43fe-bee8-057b87b0acdb",
   "metadata": {},
   "outputs": [
    {
     "name": "stdout",
     "output_type": "stream",
     "text": [
      "There are 19 combinations. Example: The combination 3 and 7 appears 99 times.\n"
     ]
    }
   ],
   "source": [
    "bins = bin_successions(last_digits)\n",
    "print(f'There are {len(bins.keys())} combinations. Example: The combination 3 and 7 appears {bins[(3, 7)]} times.')"
   ]
  },
  {
   "cell_type": "markdown",
   "id": "aa89a512-fc14-4a05-bb15-fa157303ea89",
   "metadata": {
    "tags": []
   },
   "source": [
    "## Prepare data for plotting"
   ]
  },
  {
   "cell_type": "code",
   "execution_count": 49,
   "id": "ca41f16d-f681-4dbf-8d3f-33e1154260c9",
   "metadata": {
    "tags": []
   },
   "outputs": [
    {
     "name": "stdout",
     "output_type": "stream",
     "text": [
      "Combinations that only appear once are removed: [(2, 3), (3, 5), (5, 7)]\n"
     ]
    }
   ],
   "source": [
    "data = [(key[0], key[1], value) for key, value in bins.items() if not value == 1]\n",
    "data.sort(key = operator.itemgetter(0, 1))\n",
    "print(f'Combinations that only appear once are removed: {[(k[0], k[1]) for k, v in bins.items() if v == 1]}')"
   ]
  },
  {
   "cell_type": "markdown",
   "id": "f6d9d1c0-b8a5-4f34-8e3d-d02e030153e2",
   "metadata": {
    "tags": []
   },
   "source": [
    "## Chose a color map"
   ]
  },
  {
   "cell_type": "code",
   "execution_count": 52,
   "id": "515b2e48-3ca4-45f4-b04a-d7a7abc74697",
   "metadata": {
    "tags": []
   },
   "outputs": [
    {
     "data": {
      "image/png": "[encoded data removed]",
      "text/html": [
       "<div style=\"vertical-align: middle;\"><strong>Pastel1</strong> </div><div class=\"cmap\"><img alt=\"Pastel1 colormap\" title=\"Pastel1\" style=\"border: 1px solid #555;\" src=\"data:image/png;base64,iVBORw0KGgoAAAANSUhEUgAAAgAAAABACAYAAABsv8+/AAAAFnRFWHRUaXRsZQBQYXN0ZWwxIGNvbG9ybWFwOfPodwAAABx0RVh0RGVzY3JpcHRpb24AUGFzdGVsMSBjb2xvcm1hcJ7dWQ4AAAAwdEVYdEF1dGhvcgBNYXRwbG90bGliIHYzLjYuMiwgaHR0cHM6Ly9tYXRwbG90bGliLm9yZ3HOVV8AAAAydEVYdFNvZnR3YXJlAE1hdHBsb3RsaWIgdjMuNi4yLCBodHRwczovL21hdHBsb3RsaWIub3JnX2jKeAAAAUNJREFUeJzt1qERwgAQAEGCQUUzkz6SslFpBk0ZiNAFL263gpO3fM/XdSPr8zymExj0WN/TCQxat306gUH36QAA4P8MAAAEGQAACDIAABBkAAAgyAAAQJABAIAgAwAAQQYAAIIMAAAEGQAACDIAABBkAAAgyAAAQJABAIAgAwAAQQYAAIIMAAAEGQAACDIAABBkAAAgyAAAQJABAIAgAwAAQQYAAIIMAAAEGQAACDIAABBkAAAgyAAAQJABAIAgAwAAQQYAAIIMAAAEGQAACDIAABBkAAAgyAAAQJABAIAgAwAAQQYAAIIMAAAEGQAACDIAABBkAAAgyAAAQJABAIAgAwAAQQYAAIIMAAAEGQAACDIAABBkAAAgyAAAQJABAIAgAwAAQQYAAIIMAAAEGQAACDIAABBkAAAgyAAAQJABAICgH/IDBlVUR7xHAAAAAElFTkSuQmCC\"></div><div style=\"vertical-align: middle; max-width: 514px; display: flex; justify-content: space-between;\"><div style=\"float: left;\"><div title=\"#fbb4aeff\" style=\"display: inline-block; width: 1em; height: 1em; margin: 0; vertical-align: middle; border: 1px solid #555; background-color: #fbb4aeff;\"></div> under</div><div style=\"margin: 0 auto; display: inline-block;\">bad <div title=\"#00000000\" style=\"display: inline-block; width: 1em; height: 1em; margin: 0; vertical-align: middle; border: 1px solid #555; background-color: #00000000;\"></div></div><div style=\"float: right;\">over <div title=\"#f2f2f2ff\" style=\"display: inline-block; width: 1em; height: 1em; margin: 0; vertical-align: middle; border: 1px solid #555; background-color: #f2f2f2ff;\"></div></div>"
      ],
      "text/plain": [
       "<matplotlib.colors.ListedColormap at 0x7f65966cde40>"
      ]
     },
     "execution_count": 52,
     "metadata": {},
     "output_type": "execute_result"
    }
   ],
   "source": [
    "cmap = plt.get_cmap('Pastel1', 4)\n",
    "cmap"
   ]
  },
  {
   "cell_type": "markdown",
   "id": "abe74030-802e-474d-9b7c-363bbb7b7e1d",
   "metadata": {
    "tags": []
   },
   "source": [
    "## Plot distribution of last digit combinations\n",
    "-- grouped by first digit --"
   ]
  },
  {
   "cell_type": "code",
   "execution_count": 53,
   "id": "0f30be18-7b1c-4a70-8223-7bf60b33b882",
   "metadata": {},
   "outputs": [
    {
     "data": {
      "image/png": "[encoded data removed]",
      "text/plain": [
       "<Figure size 1000x200 with 1 Axes>"
      ]
     },
     "metadata": {},
     "output_type": "display_data"
    }
   ],
   "source": [
    "successions = [f'{val[0]}-{val[1]}' for val in data]\n",
    "counts = [val[2] for val in data]\n",
    "\n",
    "plt.figure(figsize=(10,2))\n",
    "\n",
    "plt.bar(successions, counts, color=[\n",
    "    cmap.colors[0], cmap.colors[0], cmap.colors[0], cmap.colors[0],\n",
    "    cmap.colors[1], cmap.colors[1], cmap.colors[1], cmap.colors[1],\n",
    "    cmap.colors[2], cmap.colors[2], cmap.colors[2], cmap.colors[2],\n",
    "    cmap.colors[3], cmap.colors[3], cmap.colors[3], cmap.colors[3]\n",
    "])\n",
    "plt.show()"
   ]
  },
  {
   "cell_type": "markdown",
   "id": "c95b6c91-b128-4f9f-84df-ce6aa56b8723",
   "metadata": {
    "tags": []
   },
   "source": [
    "## Chose a second color map"
   ]
  },
  {
   "cell_type": "code",
   "execution_count": 54,
   "id": "d936b2f8-fce1-47ad-8c2a-d53a32787021",
   "metadata": {},
   "outputs": [
    {
     "data": {
      "image/png": "[encoded data removed]",
      "text/html": [
       "<div style=\"vertical-align: middle;\"><strong>Pastel2</strong> </div><div class=\"cmap\"><img alt=\"Pastel2 colormap\" title=\"Pastel2\" style=\"border: 1px solid #555;\" src=\"data:image/png;base64,iVBORw0KGgoAAAANSUhEUgAAAgAAAABACAYAAABsv8+/AAAAFnRFWHRUaXRsZQBQYXN0ZWwyIGNvbG9ybWFw0sRTdAAAABx0RVh0RGVzY3JpcHRpb24AUGFzdGVsMiBjb2xvcm1hcHXq4g0AAAAwdEVYdEF1dGhvcgBNYXRwbG90bGliIHYzLjYuMiwgaHR0cHM6Ly9tYXRwbG90bGliLm9yZ3HOVV8AAAAydEVYdFNvZnR3YXJlAE1hdHBsb3RsaWIgdjMuNi4yLCBodHRwczovL21hdHBsb3RsaWIub3JnX2jKeAAAAURJREFUeJzt1jERwgAQAEGCCmYyREWcxwNdDFBiAQHBBV/croIrbzk+53Uj6/FdpxMYtD9f0wkMOt/bdAKD7tMBAMD/GQAACDIAABBkAAAgyAAAQJABAIAgAwAAQQYAAIIMAAAEGQAACDIAABBkAAAgyAAAQJABAIAgAwAAQQYAAIIMAAAEGQAACDIAABBkAAAgyAAAQJABAIAgAwAAQQYAAIIMAAAEGQAACDIAABBkAAAgyAAAQJABAIAgAwAAQQYAAIIMAAAEGQAACDIAABBkAAAgyAAAQJABAIAgAwAAQQYAAIIMAAAEGQAACDIAABBkAAAgyAAAQJABAIAgAwAAQQYAAIIMAAAEGQAACDIAABBkAAAgyAAAQJABAIAgAwAAQQYAAIIMAAAEGQAACDIAABBkAAAgyAAAQJABAIAgAwAAQT92kwfjkhxsXQAAAABJRU5ErkJggg==\"></div><div style=\"vertical-align: middle; max-width: 514px; display: flex; justify-content: space-between;\"><div style=\"float: left;\"><div title=\"#b3e2cdff\" style=\"display: inline-block; width: 1em; height: 1em; margin: 0; vertical-align: middle; border: 1px solid #555; background-color: #b3e2cdff;\"></div> under</div><div style=\"margin: 0 auto; display: inline-block;\">bad <div title=\"#00000000\" style=\"display: inline-block; width: 1em; height: 1em; margin: 0; vertical-align: middle; border: 1px solid #555; background-color: #00000000;\"></div></div><div style=\"float: right;\">over <div title=\"#ccccccff\" style=\"display: inline-block; width: 1em; height: 1em; margin: 0; vertical-align: middle; border: 1px solid #555; background-color: #ccccccff;\"></div></div>"
      ],
      "text/plain": [
       "<matplotlib.colors.ListedColormap at 0x7f65963f39d0>"
      ]
     },
     "execution_count": 54,
     "metadata": {},
     "output_type": "execute_result"
    }
   ],
   "source": [
    "cmap = plt.get_cmap('Pastel2', 4)\n",
    "cmap"
   ]
  },
  {
   "cell_type": "markdown",
   "id": "a8d811a8-1204-4358-b27e-baf11797f836",
   "metadata": {
    "tags": []
   },
   "source": [
    "## Plot distribution of last digit combinations\n",
    "-- grouped by last digit --"
   ]
  },
  {
   "cell_type": "code",
   "execution_count": 55,
   "id": "42fb6343-8d0c-4f24-9877-e4e1f9bbc75c",
   "metadata": {
    "tags": []
   },
   "outputs": [
    {
     "data": {
      "image/png": "[encoded data removed]",
      "text/plain": [
       "<Figure size 1000x200 with 4 Axes>"
      ]
     },
     "metadata": {},
     "output_type": "display_data"
    }
   ],
   "source": [
    "fig, ax = plt.subplots(1, 4, sharey='row', figsize=(10,2))\n",
    "\n",
    "for index, last_digit in enumerate([1, 3, 7, 9]):\n",
    "    successions = [f'{val[0]}-{val[1]}' for val in data if val[1] == last_digit]\n",
    "    counts = [val[2] for val in data if val[1] == last_digit]\n",
    "    ax[index].bar(successions, counts, color=cmap.colors[index])\n",
    "plt.show()"
   ]
  }
 ],
 "metadata": {
  "kernelspec": {
   "display_name": "Python 3 (ipykernel)",
   "language": "python",
   "name": "python3"
  },
  "language_info": {
   "codemirror_mode": {
    "name": "ipython",
    "version": 3
   },
   "file_extension": ".py",
   "mimetype": "text/x-python",
   "name": "python",
   "nbconvert_exporter": "python",
   "pygments_lexer": "ipython3",
   "version": "3.10.9"
  }
 },
 "nbformat": 4,
 "nbformat_minor": 5
}
